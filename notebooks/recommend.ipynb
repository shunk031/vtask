{
 "cells": [
  {
   "cell_type": "markdown",
   "metadata": {},
   "source": [
    "# VASILY課題"
   ]
  },
  {
   "cell_type": "code",
   "execution_count": 1,
   "metadata": {
    "ExecuteTime": {
     "end_time": "2016-07-27T01:19:54.001092",
     "start_time": "2016-07-27T01:19:53.696707"
    },
    "collapsed": true
   },
   "outputs": [],
   "source": [
    "import os\n",
    "import numpy as np\n",
    "import pandas as pd\n",
    "import math"
   ]
  },
  {
   "cell_type": "code",
   "execution_count": 2,
   "metadata": {
    "ExecuteTime": {
     "end_time": "2016-07-27T01:19:54.010293",
     "start_time": "2016-07-27T01:19:54.003087"
    },
    "collapsed": true
   },
   "outputs": [],
   "source": [
    "DATA_DIR = os.path.join(os.path.dirname(os.path.abspath(\"__file__\")), \"../data\")"
   ]
  },
  {
   "cell_type": "markdown",
   "metadata": {},
   "source": [
    "今回扱っているデータの基本情報"
   ]
  },
  {
   "cell_type": "code",
   "execution_count": 3,
   "metadata": {
    "ExecuteTime": {
     "end_time": "2016-07-27T01:19:54.023970",
     "start_time": "2016-07-27T01:19:54.012649"
    },
    "collapsed": true
   },
   "outputs": [],
   "source": [
    "ALL_USERS = 943\n",
    "ALL_ITEMS = 1682\n",
    "ALL_RATINGS = 100000"
   ]
  },
  {
   "cell_type": "markdown",
   "metadata": {},
   "source": [
    "映画の評価データの読み込み"
   ]
  },
  {
   "cell_type": "code",
   "execution_count": 4,
   "metadata": {
    "ExecuteTime": {
     "end_time": "2016-07-27T01:19:54.299702",
     "start_time": "2016-07-27T01:19:54.026080"
    },
    "collapsed": false
   },
   "outputs": [
    {
     "data": {
      "text/html": [
       "<div>\n",
       "<table border=\"1\" class=\"dataframe\">\n",
       "  <thead>\n",
       "    <tr style=\"text-align: right;\">\n",
       "      <th></th>\n",
       "      <th>movie1</th>\n",
       "      <th>movie2</th>\n",
       "      <th>movie3</th>\n",
       "      <th>movie4</th>\n",
       "      <th>movie5</th>\n",
       "      <th>movie6</th>\n",
       "      <th>movie7</th>\n",
       "      <th>movie8</th>\n",
       "      <th>movie9</th>\n",
       "      <th>movie10</th>\n",
       "      <th>...</th>\n",
       "      <th>movie1673</th>\n",
       "      <th>movie1674</th>\n",
       "      <th>movie1675</th>\n",
       "      <th>movie1676</th>\n",
       "      <th>movie1677</th>\n",
       "      <th>movie1678</th>\n",
       "      <th>movie1679</th>\n",
       "      <th>movie1680</th>\n",
       "      <th>movie1681</th>\n",
       "      <th>movie1682</th>\n",
       "    </tr>\n",
       "  </thead>\n",
       "  <tbody>\n",
       "    <tr>\n",
       "      <th>user1</th>\n",
       "      <td>5.0</td>\n",
       "      <td>3.0</td>\n",
       "      <td>4.0</td>\n",
       "      <td>3.0</td>\n",
       "      <td>3.0</td>\n",
       "      <td>5.0</td>\n",
       "      <td>4.0</td>\n",
       "      <td>1.0</td>\n",
       "      <td>5.0</td>\n",
       "      <td>3.0</td>\n",
       "      <td>...</td>\n",
       "      <td>NaN</td>\n",
       "      <td>NaN</td>\n",
       "      <td>NaN</td>\n",
       "      <td>NaN</td>\n",
       "      <td>NaN</td>\n",
       "      <td>NaN</td>\n",
       "      <td>NaN</td>\n",
       "      <td>NaN</td>\n",
       "      <td>NaN</td>\n",
       "      <td>NaN</td>\n",
       "    </tr>\n",
       "    <tr>\n",
       "      <th>user2</th>\n",
       "      <td>4.0</td>\n",
       "      <td>NaN</td>\n",
       "      <td>NaN</td>\n",
       "      <td>NaN</td>\n",
       "      <td>NaN</td>\n",
       "      <td>NaN</td>\n",
       "      <td>NaN</td>\n",
       "      <td>NaN</td>\n",
       "      <td>NaN</td>\n",
       "      <td>2.0</td>\n",
       "      <td>...</td>\n",
       "      <td>NaN</td>\n",
       "      <td>NaN</td>\n",
       "      <td>NaN</td>\n",
       "      <td>NaN</td>\n",
       "      <td>NaN</td>\n",
       "      <td>NaN</td>\n",
       "      <td>NaN</td>\n",
       "      <td>NaN</td>\n",
       "      <td>NaN</td>\n",
       "      <td>NaN</td>\n",
       "    </tr>\n",
       "    <tr>\n",
       "      <th>user3</th>\n",
       "      <td>NaN</td>\n",
       "      <td>NaN</td>\n",
       "      <td>NaN</td>\n",
       "      <td>NaN</td>\n",
       "      <td>NaN</td>\n",
       "      <td>NaN</td>\n",
       "      <td>NaN</td>\n",
       "      <td>NaN</td>\n",
       "      <td>NaN</td>\n",
       "      <td>NaN</td>\n",
       "      <td>...</td>\n",
       "      <td>NaN</td>\n",
       "      <td>NaN</td>\n",
       "      <td>NaN</td>\n",
       "      <td>NaN</td>\n",
       "      <td>NaN</td>\n",
       "      <td>NaN</td>\n",
       "      <td>NaN</td>\n",
       "      <td>NaN</td>\n",
       "      <td>NaN</td>\n",
       "      <td>NaN</td>\n",
       "    </tr>\n",
       "    <tr>\n",
       "      <th>user4</th>\n",
       "      <td>NaN</td>\n",
       "      <td>NaN</td>\n",
       "      <td>NaN</td>\n",
       "      <td>NaN</td>\n",
       "      <td>NaN</td>\n",
       "      <td>NaN</td>\n",
       "      <td>NaN</td>\n",
       "      <td>NaN</td>\n",
       "      <td>NaN</td>\n",
       "      <td>NaN</td>\n",
       "      <td>...</td>\n",
       "      <td>NaN</td>\n",
       "      <td>NaN</td>\n",
       "      <td>NaN</td>\n",
       "      <td>NaN</td>\n",
       "      <td>NaN</td>\n",
       "      <td>NaN</td>\n",
       "      <td>NaN</td>\n",
       "      <td>NaN</td>\n",
       "      <td>NaN</td>\n",
       "      <td>NaN</td>\n",
       "    </tr>\n",
       "    <tr>\n",
       "      <th>user5</th>\n",
       "      <td>4.0</td>\n",
       "      <td>3.0</td>\n",
       "      <td>NaN</td>\n",
       "      <td>NaN</td>\n",
       "      <td>NaN</td>\n",
       "      <td>NaN</td>\n",
       "      <td>NaN</td>\n",
       "      <td>NaN</td>\n",
       "      <td>NaN</td>\n",
       "      <td>NaN</td>\n",
       "      <td>...</td>\n",
       "      <td>NaN</td>\n",
       "      <td>NaN</td>\n",
       "      <td>NaN</td>\n",
       "      <td>NaN</td>\n",
       "      <td>NaN</td>\n",
       "      <td>NaN</td>\n",
       "      <td>NaN</td>\n",
       "      <td>NaN</td>\n",
       "      <td>NaN</td>\n",
       "      <td>NaN</td>\n",
       "    </tr>\n",
       "  </tbody>\n",
       "</table>\n",
       "<p>5 rows × 1682 columns</p>\n",
       "</div>"
      ],
      "text/plain": [
       "       movie1  movie2  movie3  movie4  movie5  movie6  movie7  movie8  movie9  \\\n",
       "user1     5.0     3.0     4.0     3.0     3.0     5.0     4.0     1.0     5.0   \n",
       "user2     4.0     NaN     NaN     NaN     NaN     NaN     NaN     NaN     NaN   \n",
       "user3     NaN     NaN     NaN     NaN     NaN     NaN     NaN     NaN     NaN   \n",
       "user4     NaN     NaN     NaN     NaN     NaN     NaN     NaN     NaN     NaN   \n",
       "user5     4.0     3.0     NaN     NaN     NaN     NaN     NaN     NaN     NaN   \n",
       "\n",
       "       movie10    ...      movie1673  movie1674  movie1675  movie1676  \\\n",
       "user1      3.0    ...            NaN        NaN        NaN        NaN   \n",
       "user2      2.0    ...            NaN        NaN        NaN        NaN   \n",
       "user3      NaN    ...            NaN        NaN        NaN        NaN   \n",
       "user4      NaN    ...            NaN        NaN        NaN        NaN   \n",
       "user5      NaN    ...            NaN        NaN        NaN        NaN   \n",
       "\n",
       "       movie1677  movie1678  movie1679  movie1680  movie1681  movie1682  \n",
       "user1        NaN        NaN        NaN        NaN        NaN        NaN  \n",
       "user2        NaN        NaN        NaN        NaN        NaN        NaN  \n",
       "user3        NaN        NaN        NaN        NaN        NaN        NaN  \n",
       "user4        NaN        NaN        NaN        NaN        NaN        NaN  \n",
       "user5        NaN        NaN        NaN        NaN        NaN        NaN  \n",
       "\n",
       "[5 rows x 1682 columns]"
      ]
     },
     "execution_count": 4,
     "metadata": {},
     "output_type": "execute_result"
    }
   ],
   "source": [
    "movie_table = os.path.join(DATA_DIR, \"movie_table.csv\")\n",
    "movie_data = pd.read_csv(movie_table, index_col=0)\n",
    "movie_data.head()"
   ]
  },
  {
   "cell_type": "markdown",
   "metadata": {},
   "source": [
    "## ピアソンの相関係数を計算する\n",
    "\n",
    "ピアソンの相関係数を用いて、類似度を計算する。"
   ]
  },
  {
   "cell_type": "markdown",
   "metadata": {},
   "source": [
    "* ユーザ$a$とユーザ$x$が共通に評価した映画の集合を$Y_{ax}$\n",
    "* ユーザ$a$ の映画$y$への評価値を$r_{ay}$\n",
    "\n",
    "とすると、ユーザ$a$とユーザ$x$のピアソン相関係数$\\rho_{ax}$は\n",
    "\n",
    "$$\n",
    "    \\rho_{ax} = \\frac{ \\sum_{y \\in Y_{ax}}^{} (r_{ay} - \\bar{r}'_a)(r_{xy} - \\bar{r}'_x) }{ \\sqrt{ \\sum_{y \\in Y_{ax}}^{} (r_{ay} - \\bar{r}'_a)^2 } \\sqrt{ \\sum_{y \\in Y_{ax}}^{} (r_{xy} - \\bar{r}'_x)^2}}\n",
    "$$\n",
    "\n",
    "ここで、\n",
    "\n",
    "$$\n",
    "    \\bar{r}'_a = \\frac{\\sum_{y \\in Y_{ax}}^{} r_{xy}}{|Y_{ax}|}\n",
    "$$\n",
    "\n",
    "である。"
   ]
  },
  {
   "cell_type": "code",
   "execution_count": 5,
   "metadata": {
    "ExecuteTime": {
     "end_time": "2016-07-27T01:19:54.360117",
     "start_time": "2016-07-27T01:19:54.301812"
    },
    "collapsed": false
   },
   "outputs": [],
   "source": [
    "def sim_pearson(user1, user2):\n",
    "    \n",
    "    # 同じユーザ同士は0を返すようにする\n",
    "    if user1.equals(user2):\n",
    "        return 0.0\n",
    "\n",
    "    #usre1, user2両者が評価した映画を取得する\n",
    "    both_rated =[]\n",
    "    for i in range(1, ALL_ITEMS+1):\n",
    "        movie_name = \"movie%d\" % i\n",
    "        \n",
    "        if not(math.isnan(user1[movie_name]) or math.isnan(user2[movie_name])):\n",
    "            both_rated.append(movie_name)\n",
    "\n",
    "#     # 両者が評価した映画を表示\n",
    "#     for movie in both_rated:\n",
    "#         print(movie)\n",
    "\n",
    "    number_of_ragins = len(both_rated)\n",
    "\n",
    "    if number_of_ragins == 0:\n",
    "        return 0.0\n",
    "\n",
    "    # user1とuser2の映画の評価値の平均を計算\n",
    "#     user1_array = [user1[movie] for movie_name in both_rated]\n",
    "#     user2_array = [user2[movie] for movie_name in both_rated]\n",
    "#     print(\"user1 array type: %s, user2 array type: %s\" % (type(user1_array), type(user2_array)))\n",
    "\n",
    "#     for num in user1_array:\n",
    "#         print(\"num is %s\" % type(num))\n",
    "\n",
    "#     user1_sum = sum(user1_array)\n",
    "#     user2_sum = sum(user2_array)\n",
    "\n",
    "#     user1_mean = user1_sum / number_of_ragins\n",
    "#     user2_mean = user2_sum / number_of_ragins\n",
    "    user1_mean = sum([float(user1[movie]) for movie in both_rated]) / number_of_ragins\n",
    "    user2_mean = sum([float(user2[movie]) for movie in both_rated]) / number_of_ragins\n",
    "\n",
    "#     print(\"user1 mean: %.1f\" % user1_mean)\n",
    "#     print(\"user2 mean: %.1f\" % user2_mean)\n",
    "\n",
    "    # 分子の計算\n",
    "    numer = float(sum([(user1[movie] - user1_mean)*(user2[movie] - user2_mean) for movie in both_rated]))\n",
    "#     for movie in both_rated:\n",
    "#         numer += (user1[movie] - user1_mean) * (user2[movie] - user2_mean)\n",
    "#     print(\"numer type: %s\" % type(numer))\n",
    "#     print(\"numer: %.1f\" % numer)\n",
    "    \n",
    "    # 分母の計算\n",
    "    denom1 = math.sqrt(sum([(user1[movie] - user1_mean)**2 for movie in both_rated]))\n",
    "    denom2 = math.sqrt(sum([(user1[movie] - user2_mean)**2 for movie in both_rated]))\n",
    "#     print(\"denom1 type: %s, denom2 type: %s\" % (type(denom1), type(denom2)))\n",
    "#     print(\"denom1: %.1f denom2: %.1f\" % (denom1, denom2))\n",
    "#     print(\"denom1 * denom2: %.1f\" % denom1*denom2)\n",
    "    \n",
    "    try:\n",
    "        pearson_corr = numer / (denom1 * denom2)\n",
    "    except ZeroDivisionError as e:\n",
    "        pearson_corr = 0\n",
    "\n",
    "    return pearson_corr"
   ]
  },
  {
   "cell_type": "code",
   "execution_count": 6,
   "metadata": {
    "ExecuteTime": {
     "end_time": "2016-07-27T01:19:54.412203",
     "start_time": "2016-07-27T01:19:54.362290"
    },
    "collapsed": false
   },
   "outputs": [
    {
     "name": "stdout",
     "output_type": "stream",
     "text": [
      "pearson corr = 0.1\n"
     ]
    }
   ],
   "source": [
    "user1 = movie_data.ix['user1']\n",
    "user2 = movie_data.ix['user2']\n",
    "print(\"pearson corr = %.1f\" % sim_pearson(user1, user2))"
   ]
  },
  {
   "cell_type": "markdown",
   "metadata": {},
   "source": [
    "## レコメンドアルゴリズム\n",
    "\n",
    "ユーザ$a$に対して、未評価の映画$y$の評価値の推定を行い、スコアが高いものをレコメンドする。"
   ]
  },
  {
   "cell_type": "markdown",
   "metadata": {},
   "source": [
    "* 映画$y$を評価済みのユーザの集合を$X_y$\n",
    "\n",
    "とすると、ユーザ$a$の映画$y$への評価の推定値$\\hat{r}_{ay}$は、\n",
    "\n",
    "$$\n",
    "    \\hat{r}_{ay} = \\frac{\\sum_{x \\in X_y}^{} \\rho_{ax}(r_{xy} - \\bar{r}'_x)}{\\sum_{x \\in X_y}^{} |\\rho_{ax}|}\n",
    "$$\n",
    "\n",
    "ここで、\n",
    "\n",
    "$$\n",
    "    \\bar{r}_x = \\frac{ \\sum_{y \\in Y_x}^{} r_{xy}}{|Y_x|}\n",
    "$$\n",
    "\n",
    "である。"
   ]
  },
  {
   "cell_type": "code",
   "execution_count": 7,
   "metadata": {
    "ExecuteTime": {
     "end_time": "2016-07-27T01:19:54.421813",
     "start_time": "2016-07-27T01:19:54.414281"
    },
    "collapsed": false
   },
   "outputs": [],
   "source": [
    "def calc_average(user):\n",
    "\n",
    "    d = 0\n",
    "    for movie in user:\n",
    "        d += movie\n",
    "    \n",
    "    n = [x for x in user if not(math.isnan(x))]\n",
    "    d = len(n)\n",
    "    sum_n = sum(n)\n",
    "    \n",
    "    return sum_n/d"
   ]
  },
  {
   "cell_type": "code",
   "execution_count": 8,
   "metadata": {
    "ExecuteTime": {
     "end_time": "2016-07-27T01:19:54.449735",
     "start_time": "2016-07-27T01:19:54.423905"
    },
    "collapsed": true
   },
   "outputs": [],
   "source": [
    "def calc_recom_score(movie_data, target_user, target_movie):\n",
    "    \n",
    "    # レコメンドを行うユーザのデータを抽出\n",
    "    target_user = movie_data.ix[target_user]\n",
    "\n",
    "    # target_movieを評価しているユーザを取得する\n",
    "    rated_target_movie = []\n",
    "    for i in range(1, ALL_USERS+1):\n",
    "        user_name = \"user%d\" % i\n",
    "        user_data = movie_data.ix[user_name]\n",
    "        \n",
    "        # 取り出したuser_dataがtarget_movieを評価しているかどうか判定\n",
    "        if not(math.isnan(user_data[target_movie])):\n",
    "            rated_target_movie.append(user_name)\n",
    "            \n",
    "#     # target_movieを評価したユーザを表示\n",
    "#     for user in rated_target_movie:\n",
    "#         print(user)\n",
    "  \n",
    "    sum1 = 0\n",
    "    sum2 = 0\n",
    "    for user in rated_target_movie:\n",
    "        \n",
    "        user_data = movie_data.ix[user]\n",
    "        pc = sim_pearson(target_user, user_data)\n",
    "        \n",
    "        calc = pc * (user_data[target_movie] - calc_average(user_data))\n",
    "        sum1 += calc\n",
    "\n",
    "        abs_pc = math.fabs(pc)\n",
    "        sum2 += abs_pc\n",
    "\n",
    "    recom = calc_average(target_user) + sum1 / sum2\n",
    "    return recom"
   ]
  },
  {
   "cell_type": "markdown",
   "metadata": {},
   "source": [
    "今回、ユーザ2に対してレコメンドを行ってみる。まずはじめにmovie2の推薦度を計算してみる。"
   ]
  },
  {
   "cell_type": "code",
   "execution_count": null,
   "metadata": {
    "ExecuteTime": {
     "start_time": "2016-07-26T16:19:53.722Z"
    },
    "collapsed": false
   },
   "outputs": [
    {
     "name": "stdout",
     "output_type": "stream",
     "text": [
      "user2: movie2 recom rating is 3.5\n"
     ]
    }
   ],
   "source": [
    "target_user_name = 'user2'\n",
    "target_movie = 'movie2'\n",
    "recom = calc_recom_score(movie_data, target_user_name, target_movie)\n",
    "print(\"%s: %s recom rating is %.1f\" % (target_user_name, target_movie, recom))"
   ]
  },
  {
   "cell_type": "code",
   "execution_count": null,
   "metadata": {
    "ExecuteTime": {
     "start_time": "2016-07-26T16:19:53.726Z"
    },
    "collapsed": false
   },
   "outputs": [
    {
     "name": "stdout",
     "output_type": "stream",
     "text": [
      "user2: movie2 predict ratings 3.5\n"
     ]
    }
   ],
   "source": [
    "recom_rating = {}\n",
    "target_user = movie_data.ix[target_user_name]\n",
    "\n",
    "for i in range(1, ALL_ITEMS+1):\n",
    "    target_movie = \"movie%d\" % i\n",
    "    \n",
    "    if math.isnan(target_user[target_movie]):\n",
    "        recom = calc_recom_score(movie_data, target_user_name, target_movie)\n",
    "        print(\"%s: %s predict ratings %.1f\" % (target_user_name, target_movie, recom))\n",
    "        \n",
    "        recom_rating[target_movie] = recom"
   ]
  },
  {
   "cell_type": "code",
   "execution_count": null,
   "metadata": {
    "ExecuteTime": {
     "start_time": "2016-07-26T16:19:53.728Z"
    },
    "collapsed": false
   },
   "outputs": [],
   "source": [
    "print(\"These are the recommended movies to you:\")\n",
    "\n",
    "count = 0\n",
    "for movie, score in sorted(recom_rating.items(), key=lambda x:x[1], reverse=True):\n",
    "    if count == 10:\n",
    "        break\n",
    "    \n",
    "    print(\"%s: predict rating %.1f\" % (movie, score))\n",
    "    count += 1"
   ]
  },
  {
   "cell_type": "markdown",
   "metadata": {},
   "source": [
    "## 参考\n",
    "\n",
    "* [推薦システム 解説・講義資料](http://www.kamishima.net/jp/kaisetsu/)\n",
    "* [推薦システムのアルゴリズム - 第9章 メモリベース型協調フィルタリング -](http://www.kamishima.net/archive/recsysdoc.pdf)\n",
    "* [協調フィルタリングを利用した推薦システム構築](http://www.slideshare.net/masayuki1986/recommendation-ml)"
   ]
  }
 ],
 "metadata": {
  "kernelspec": {
   "display_name": "Python 3",
   "language": "python",
   "name": "python3"
  },
  "language_info": {
   "codemirror_mode": {
    "name": "ipython",
    "version": 3
   },
   "file_extension": ".py",
   "mimetype": "text/x-python",
   "name": "python",
   "nbconvert_exporter": "python",
   "pygments_lexer": "ipython3",
   "version": "3.5.2"
  }
 },
 "nbformat": 4,
 "nbformat_minor": 0
}
