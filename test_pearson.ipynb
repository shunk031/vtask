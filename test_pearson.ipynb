{
 "cells": [
  {
   "cell_type": "markdown",
   "metadata": {},
   "source": [
    "# VASILY 課題"
   ]
  },
  {
   "cell_type": "code",
   "execution_count": 1,
   "metadata": {
    "collapsed": true
   },
   "outputs": [],
   "source": [
    "import os\n",
    "import numpy as np\n",
    "import pandas as pd\n",
    "import math\n",
    "import time"
   ]
  },
  {
   "cell_type": "code",
   "execution_count": 2,
   "metadata": {
    "collapsed": true
   },
   "outputs": [],
   "source": [
    "DATA_DIR = os.path.join(os.path.dirname(os.path.realpath(\"__file__\")),\"ml-100k\")"
   ]
  },
  {
   "cell_type": "markdown",
   "metadata": {},
   "source": [
    "今回扱っているデータの基本情報"
   ]
  },
  {
   "cell_type": "code",
   "execution_count": 3,
   "metadata": {
    "collapsed": true
   },
   "outputs": [],
   "source": [
    "ALL_USERS = 4\n",
    "ALL_ITEMS = 4\n",
    "ALL_RATINGS = 12"
   ]
  },
  {
   "cell_type": "markdown",
   "metadata": {},
   "source": [
    "縦軸：ユーザ、横軸：映画の表に各々映画に対してユーザが評価した値が格納されているmovie_table.csvを読み込む"
   ]
  },
  {
   "cell_type": "code",
   "execution_count": 4,
   "metadata": {
    "collapsed": false
   },
   "outputs": [
    {
     "data": {
      "text/html": [
       "<div>\n",
       "<table border=\"1\" class=\"dataframe\">\n",
       "  <thead>\n",
       "    <tr style=\"text-align: right;\">\n",
       "      <th></th>\n",
       "      <th>movie1</th>\n",
       "      <th>movie2</th>\n",
       "      <th>movie3</th>\n",
       "      <th>movie4</th>\n",
       "    </tr>\n",
       "  </thead>\n",
       "  <tbody>\n",
       "    <tr>\n",
       "      <th>user1</th>\n",
       "      <td>1.0</td>\n",
       "      <td>3</td>\n",
       "      <td>NaN</td>\n",
       "      <td>3.0</td>\n",
       "    </tr>\n",
       "    <tr>\n",
       "      <th>user2</th>\n",
       "      <td>NaN</td>\n",
       "      <td>1</td>\n",
       "      <td>3.0</td>\n",
       "      <td>NaN</td>\n",
       "    </tr>\n",
       "    <tr>\n",
       "      <th>user3</th>\n",
       "      <td>2.0</td>\n",
       "      <td>1</td>\n",
       "      <td>3.0</td>\n",
       "      <td>1.0</td>\n",
       "    </tr>\n",
       "    <tr>\n",
       "      <th>user4</th>\n",
       "      <td>1.0</td>\n",
       "      <td>3</td>\n",
       "      <td>2.0</td>\n",
       "      <td>NaN</td>\n",
       "    </tr>\n",
       "  </tbody>\n",
       "</table>\n",
       "</div>"
      ],
      "text/plain": [
       "       movie1  movie2  movie3  movie4\n",
       "user1     1.0       3     NaN     3.0\n",
       "user2     NaN       1     3.0     NaN\n",
       "user3     2.0       1     3.0     1.0\n",
       "user4     1.0       3     2.0     NaN"
      ]
     },
     "execution_count": 4,
     "metadata": {},
     "output_type": "execute_result"
    }
   ],
   "source": [
    "movie_table_file = \"sample_table.csv\"\n",
    "movie_data = pd.read_csv(movie_table_file, index_col=0)\n",
    "movie_data.head()"
   ]
  },
  {
   "cell_type": "markdown",
   "metadata": {
    "collapsed": false
   },
   "source": [
    "## ピアソン相関係数を計算する"
   ]
  },
  {
   "cell_type": "markdown",
   "metadata": {},
   "source": [
    "ピアソン相関係数を計算して、相関が高いものをレコメンドするようにする。ピアソン相関係数$\\rho_P$は\n",
    "\n",
    "$$\n",
    "    \\rho_P = \\frac{E_{X,Y}[(X-\\mu_X)(Y - \\mu_Y)]}{\\sqrt{E_X[(X - \\mu_X)^2]}\\sqrt{E_Y[(Y - \\mu_Y)^2]}}\n",
    "$$\n",
    "\n",
    "ただし、\n",
    "\n",
    "$$\n",
    "    \\mu_X = E_X[X], \\mu_Y = E_Y[Y]\n",
    "$$\n",
    "\n",
    "である。"
   ]
  },
  {
   "cell_type": "markdown",
   "metadata": {},
   "source": [
    "以下のような式を実装する。\n",
    "\n",
    "* ユーザ $s$ による映画 $i$ の評価を $p_{s,i}$、ユーザ $t$ による映画 $i$ の評価を $p_{t, i}$\n",
    "* ユーザ $s$ の映画の評価の平均を $E[P_s]$、ユーザ $t$ の映画の評価の平均を $E[P_t]$\n",
    "* ユーザ$s$, $t$間のピアソン相関係数 $Sim_{s,t}$\n",
    "\n",
    "$$\n",
    "    Sim_{s,t} = \\frac{\\sum_{i=1}^{n}(p_{s,i} - E[P_s])(p_{t,i} - E[P_t])}{\\sqrt{\\sum_{i=1}^{n}(p_{s,i} - E[P_s])^2} \\sqrt{{\\sum_{i=1}^{n}(p_{t,i} - E[P_t])^2}}}\n",
    "$$"
   ]
  },
  {
   "cell_type": "markdown",
   "metadata": {},
   "source": [
    "ユーザの映画評価の平均を計算する"
   ]
  },
  {
   "cell_type": "code",
   "execution_count": 5,
   "metadata": {
    "collapsed": false
   },
   "outputs": [
    {
     "name": "stdout",
     "output_type": "stream",
     "text": [
      "user1 average rating = 2.3\n",
      "user2 average rating = 2.0\n",
      "user3 average rating = 1.8\n",
      "user4 average rating = 2.0\n"
     ]
    }
   ],
   "source": [
    "user1 = movie_data.ix['user1']\n",
    "user1_mean = user1.mean()\n",
    "print(\"user1 average rating = %.1f\" % user1_mean)\n",
    "\n",
    "user2 = movie_data.ix['user2']\n",
    "user2_mean = user2.mean()\n",
    "print(\"user2 average rating = %.1f\" % user2_mean)\n",
    "\n",
    "user3 = movie_data.ix['user3']\n",
    "user3_mean = user3.mean()\n",
    "print(\"user3 average rating = %.1f\" % user3_mean)\n",
    "\n",
    "user4 = movie_data.ix['user4']\n",
    "user4_mean = user4.mean()\n",
    "print(\"user4 average rating = %.1f\" % user4_mean)"
   ]
  },
  {
   "cell_type": "code",
   "execution_count": 6,
   "metadata": {
    "collapsed": false
   },
   "outputs": [
    {
     "name": "stdout",
     "output_type": "stream",
     "text": [
      "1.0\n",
      "<class 'numpy.float64'>\n"
     ]
    }
   ],
   "source": [
    "# 取り出したデータって型は何？\n",
    "print(user1[\"movie1\"])\n",
    "print(type(user1[\"movie1\"])) # numpy.float64みたい"
   ]
  },
  {
   "cell_type": "markdown",
   "metadata": {},
   "source": [
    "ピアソン相関係数を計算する関数を定義。"
   ]
  },
  {
   "cell_type": "code",
   "execution_count": 7,
   "metadata": {
    "collapsed": false
   },
   "outputs": [],
   "source": [
    "def sim_pearson(user1, user2):\n",
    "\n",
    "    # 同じもの同士は0を返すようにする\n",
    "    if user1.equals(user2):\n",
    "        return 0.0\n",
    "    \n",
    "    user1_mean = user1.mean()\n",
    "    user2_mean = user2.mean()\n",
    "\n",
    "    sum = 0\n",
    "    count_ = 0\n",
    "    for i in range(1, ALL_ITEMS+1):\n",
    "        movie_name = \"movie%d\" % i\n",
    "        \n",
    "        if not(math.isnan(user1[movie_name]) or math.isnan(user2[movie_name])):\n",
    "            calc_ = (user1[movie_name] - user1_mean)*(user2[movie_name] - user2_mean)\n",
    "            sum += calc_\n",
    "            count_ += 1\n",
    "    \n",
    "    # 共通しているアイテムが1個以下の場合\n",
    "    if count_ <= 1:\n",
    "        return 0.0\n",
    "    \n",
    "    sos1 = 0; sos2 = 0\n",
    "    for i in range(1, ALL_ITEMS+1):\n",
    "        movie_name = \"movie%d\" % i\n",
    "        \n",
    "        if not(math.isnan(user1[movie_name]) or math.isnan(user2[movie_name])):\n",
    "            v1 = (user1[movie_name] - user1_mean)**2\n",
    "            v2 = (user2[movie_name] - user2_mean)**2\n",
    "\n",
    "            sos1 = sos1 + v1; sos2 = sos2 + v2\n",
    "            \n",
    "    sqrt1 = math.sqrt(sos1)\n",
    "    sqrt2 = math.sqrt(sos2)\n",
    "    \n",
    "    try:\n",
    "        pearson_corr = sum / (sqrt1 * sqrt2)\n",
    "    except ZeroDivisionError as e:\n",
    "        pearson_corr = 0\n",
    "    \n",
    "    return pearson_corr            "
   ]
  },
  {
   "cell_type": "code",
   "execution_count": 8,
   "metadata": {
    "collapsed": false
   },
   "outputs": [
    {
     "name": "stdout",
     "output_type": "stream",
     "text": [
      "pearson corr(2, 1) = 0.000000\n",
      "pearson corr(2, 3) = 0.970143\n",
      "pearson corr(2, 4) = -0.707107\n"
     ]
    }
   ],
   "source": [
    "pc21 = sim_pearson(user2, user1)\n",
    "print(\"pearson corr(2, 1) = %f\" % pc21)\n",
    "\n",
    "pc23 = sim_pearson(user2, user3)\n",
    "print(\"pearson corr(2, 3) = %f\" % pc23)\n",
    "\n",
    "pc24 = sim_pearson(user2, user4)\n",
    "print(\"pearson corr(2, 4) = %f\" % pc24)"
   ]
  },
  {
   "cell_type": "markdown",
   "metadata": {},
   "source": [
    "## レコメンドアルゴリズム\n",
    "\n",
    "評価済み映画の類似度による重み付け和を正規化したものをレコメンドスコアの指標とする。"
   ]
  },
  {
   "cell_type": "markdown",
   "metadata": {},
   "source": [
    "以下のような式を実装する。\n",
    "\n",
    "* ユーザ $s$ とユーザ $t$ とのピアソン相関係数 $Sim_{s, t}$\n",
    "* ユーザ $t$ が映画 $i$ を評価した時の評価値 $p_{t, i}$\n",
    "* ユーザ $s$ とユーザ $t$ が共通に評価した映画の集合 $i_{s,t}$\n",
    "* $i_{s,t}$ 上での $t$ の評価値の平均 $\\bar{r'_s}$\n",
    "* ユーザ $s$ の評価値の平均 $\\bar{r_s}$\n",
    "* ユーザ $s$ が 映画 $i$ を評価した時の評価値の推定値 $Recom_{s,i}$\n",
    "\n",
    "$$\n",
    "    Recom_{s,i} = \\frac{\\sum_{i=1}^{n} (p_{t,i} - \\bar{r'_t})Sim_{s,t}}{\\sum_{i=1}^{n} |Sim_{s,t}|}\n",
    "$$"
   ]
  },
  {
   "cell_type": "markdown",
   "metadata": {},
   "source": [
    "まず、今回ターゲットとなる*target_user*のデータを抽出してみる。"
   ]
  },
  {
   "cell_type": "code",
   "execution_count": 9,
   "metadata": {
    "collapsed": false
   },
   "outputs": [
    {
     "data": {
      "text/plain": [
       "movie1    NaN\n",
       "movie2    1.0\n",
       "movie3    3.0\n",
       "movie4    NaN\n",
       "Name: user2, dtype: float64"
      ]
     },
     "execution_count": 9,
     "metadata": {},
     "output_type": "execute_result"
    }
   ],
   "source": [
    "target_user_name = 'user2'\n",
    "target_user = movie_data.ix[target_user_name]\n",
    "target_user.head(10)\n",
    "#print(target_user.mean())"
   ]
  },
  {
   "cell_type": "markdown",
   "metadata": {},
   "source": [
    "*target_user*の*movie2*への推定評価値$Recom_{target\\_user, movie2}$を求めてみる。"
   ]
  },
  {
   "cell_type": "markdown",
   "metadata": {},
   "source": [
    "まず相関係数$\\rho$を求める。*movie2*を評価済みのユーザ間で相関係数を求める必要がある。"
   ]
  },
  {
   "cell_type": "code",
   "execution_count": 10,
   "metadata": {
    "collapsed": false
   },
   "outputs": [
    {
     "name": "stdout",
     "output_type": "stream",
     "text": [
      "target_user = user2, user_data = user1, sim_pearson = 0.0\n",
      "target_user = user2, user_data = user2, sim_pearson = 0.0\n",
      "target_user = user2, user_data = user3, sim_pearson = 1.0\n",
      "target_user = user2, user_data = user4, sim_pearson = -0.7\n"
     ]
    }
   ],
   "source": [
    "target_movie = 'movie2'\n",
    "\n",
    "for i in range(1, ALL_USERS+1):\n",
    "    user_name = \"user%d\" % i\n",
    "    user_data = movie_data.ix[user_name]\n",
    "    \n",
    "    # movie2を評価しているかどうか確認する\n",
    "    if not(math.isnan(user_data[target_movie])):\n",
    "        pc = sim_pearson(target_user, user_data)\n",
    "        print(\"target_user = %s, user_data = %s, sim_pearson = %.1f\" % (target_user_name, user_name, pc))"
   ]
  },
  {
   "cell_type": "markdown",
   "metadata": {},
   "source": [
    "*taget_user*の全評価済み映画上の平均評価値を求める。"
   ]
  },
  {
   "cell_type": "code",
   "execution_count": 11,
   "metadata": {
    "collapsed": false
   },
   "outputs": [
    {
     "name": "stdout",
     "output_type": "stream",
     "text": [
      "user2 mean rating = 2.0\n"
     ]
    }
   ],
   "source": [
    "target_user_mean = target_user.mean()\n",
    "print(\"%s mean rating = %.1f\" % (target_user_name, target_user_mean))"
   ]
  },
  {
   "cell_type": "markdown",
   "metadata": {},
   "source": [
    "*user2*の*movie2*に対する推定評価値を計算する。"
   ]
  },
  {
   "cell_type": "code",
   "execution_count": 12,
   "metadata": {
    "collapsed": false
   },
   "outputs": [
    {
     "data": {
      "text/html": [
       "<div>\n",
       "<table border=\"1\" class=\"dataframe\">\n",
       "  <thead>\n",
       "    <tr style=\"text-align: right;\">\n",
       "      <th></th>\n",
       "      <th>movie1</th>\n",
       "      <th>movie2</th>\n",
       "      <th>movie3</th>\n",
       "      <th>movie4</th>\n",
       "    </tr>\n",
       "  </thead>\n",
       "  <tbody>\n",
       "    <tr>\n",
       "      <th>user1</th>\n",
       "      <td>1.0</td>\n",
       "      <td>3</td>\n",
       "      <td>NaN</td>\n",
       "      <td>3.0</td>\n",
       "    </tr>\n",
       "    <tr>\n",
       "      <th>user2</th>\n",
       "      <td>NaN</td>\n",
       "      <td>1</td>\n",
       "      <td>3.0</td>\n",
       "      <td>NaN</td>\n",
       "    </tr>\n",
       "    <tr>\n",
       "      <th>user3</th>\n",
       "      <td>2.0</td>\n",
       "      <td>1</td>\n",
       "      <td>3.0</td>\n",
       "      <td>1.0</td>\n",
       "    </tr>\n",
       "    <tr>\n",
       "      <th>user4</th>\n",
       "      <td>1.0</td>\n",
       "      <td>3</td>\n",
       "      <td>2.0</td>\n",
       "      <td>NaN</td>\n",
       "    </tr>\n",
       "  </tbody>\n",
       "</table>\n",
       "</div>"
      ],
      "text/plain": [
       "       movie1  movie2  movie3  movie4\n",
       "user1     1.0       3     NaN     3.0\n",
       "user2     NaN       1     3.0     NaN\n",
       "user3     2.0       1     3.0     1.0\n",
       "user4     1.0       3     2.0     NaN"
      ]
     },
     "execution_count": 12,
     "metadata": {},
     "output_type": "execute_result"
    }
   ],
   "source": [
    "movie_data.head()"
   ]
  },
  {
   "cell_type": "code",
   "execution_count": 13,
   "metadata": {
    "collapsed": false
   },
   "outputs": [
    {
     "name": "stdout",
     "output_type": "stream",
     "text": [
      "[Now processing numerator...]\n",
      "target_user = user2, user_data = user1, sim_pearson = 0.0\n",
      "calc = 0.0 * (1 - 2.3) = -0.0\n",
      "\n",
      "target_user = user2, user_data = user3, sim_pearson = 1.0\n",
      "calc = 1.0 * (2 - 1.8) = 0.2\n",
      "\n",
      "target_user = user2, user_data = user4, sim_pearson = -0.7\n",
      "calc = -0.7 * (1 - 2.0) = 0.7\n",
      "\n",
      "[Now processing denominator...]\n",
      "target_user = user2, user_data = user1, |sim_pearson| = 0.0\n",
      "target_user = user2, user_data = user3, |sim_pearson| = 1.0\n",
      "target_user = user2, user_data = user4, |sim_pearson| = 0.7\n",
      "movie1 recom rating is 2.6\n"
     ]
    }
   ],
   "source": [
    "target_movie = \"movie1\"\n",
    "\n",
    "sum1 = 0\n",
    "print(\"[Now processing numerator...]\")\n",
    "for i in range(1, ALL_USERS+1):\n",
    "    user_name = \"user%d\" % i\n",
    "    user_data = movie_data.ix[user_name]\n",
    "    \n",
    "    if not(math.isnan(user_data[target_movie])):\n",
    "        pc = sim_pearson(target_user, user_data)\n",
    "        print(\"target_user = %s, user_data = %s, sim_pearson = %.1f\" % (target_user_name, user_name, pc))\n",
    "\n",
    "        calc = pc * (user_data[target_movie] - user_data.mean())\n",
    "        #print(\"target_user = %s, user_data = %s:\" % (target_user_name, user_name))\n",
    "        print(\"calc = %.1f * (%d - %.1f) = %.1f\\n\" % (pc, user_data[target_movie], user_data.mean(), calc))\n",
    "\n",
    "        sum1 += calc\n",
    "\n",
    "sum2 = 0\n",
    "print(\"[Now processing denominator...]\")\n",
    "for i in range(1, ALL_USERS+1):\n",
    "    user_name = \"user%d\" % i\n",
    "    user_data = movie_data.ix[user_name]\n",
    "    \n",
    "    if not(math.isnan(user_data[target_movie])):\n",
    "        pc = sim_pearson(target_user, user_data)\n",
    "        abs_pc = math.fabs(pc)\n",
    "        print(\"target_user = %s, user_data = %s, |sim_pearson| = %.1f\" % (target_user_name, user_name, abs_pc))\n",
    "        sum2 += abs_pc\n",
    "\n",
    "recom = target_user_mean + sum1 / sum2\n",
    "print(\"%s recom rating is %.1f\" % (target_movie, recom))"
   ]
  },
  {
   "cell_type": "markdown",
   "metadata": {},
   "source": [
    "## 参考\n",
    "\n",
    "* [推薦システム 解説・講義資料](www.kamishima.net/jp/kaisetsu/)\n",
    "* [推薦システムのアルゴリズム - 第9章 メモリベース型協調フィルタリング-](www.kamishima.net/archive/recsysdoc.pdf)\n",
    "* [協調フィルタリングを利用した推薦システム構築](www.slideshare.net/masayuki1986/recommendation-ml)"
   ]
  }
 ],
 "metadata": {
  "kernelspec": {
   "display_name": "Python 3",
   "language": "python",
   "name": "python3"
  },
  "language_info": {
   "codemirror_mode": {
    "name": "ipython",
    "version": 3
   },
   "file_extension": ".py",
   "mimetype": "text/x-python",
   "name": "python",
   "nbconvert_exporter": "python",
   "pygments_lexer": "ipython3",
   "version": "3.5.2"
  }
 },
 "nbformat": 4,
 "nbformat_minor": 0
}
