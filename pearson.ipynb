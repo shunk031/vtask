{
 "cells": [
  {
   "cell_type": "markdown",
   "metadata": {},
   "source": [
    "# VASILY 課題"
   ]
  },
  {
   "cell_type": "code",
   "execution_count": 39,
   "metadata": {
    "collapsed": true
   },
   "outputs": [],
   "source": [
    "import os\n",
    "import numpy as np\n",
    "import pandas as pd\n",
    "import math\n",
    "import time"
   ]
  },
  {
   "cell_type": "code",
   "execution_count": 18,
   "metadata": {
    "collapsed": true
   },
   "outputs": [],
   "source": [
    "DATA_DIR = os.path.join(os.path.dirname(os.path.realpath(\"__file__\")),\"ml-100k\")"
   ]
  },
  {
   "cell_type": "markdown",
   "metadata": {},
   "source": [
    "今回扱っているデータの基本情報"
   ]
  },
  {
   "cell_type": "code",
   "execution_count": 19,
   "metadata": {
    "collapsed": true
   },
   "outputs": [],
   "source": [
    "ALL_USERS = 943\n",
    "ALL_ITEMS = 1682\n",
    "ALL_RATINGS = 100000"
   ]
  },
  {
   "cell_type": "markdown",
   "metadata": {},
   "source": [
    "縦軸：ユーザ、横軸：映画の表に各々映画に対してユーザが評価した値が格納されているmovie_table.csvを読み込む"
   ]
  },
  {
   "cell_type": "code",
   "execution_count": 20,
   "metadata": {
    "collapsed": false
   },
   "outputs": [
    {
     "data": {
      "text/html": [
       "<div>\n",
       "<table border=\"1\" class=\"dataframe\">\n",
       "  <thead>\n",
       "    <tr style=\"text-align: right;\">\n",
       "      <th></th>\n",
       "      <th>movie1</th>\n",
       "      <th>movie2</th>\n",
       "      <th>movie3</th>\n",
       "      <th>movie4</th>\n",
       "      <th>movie5</th>\n",
       "      <th>movie6</th>\n",
       "      <th>movie7</th>\n",
       "      <th>movie8</th>\n",
       "      <th>movie9</th>\n",
       "      <th>movie10</th>\n",
       "      <th>...</th>\n",
       "      <th>movie1673</th>\n",
       "      <th>movie1674</th>\n",
       "      <th>movie1675</th>\n",
       "      <th>movie1676</th>\n",
       "      <th>movie1677</th>\n",
       "      <th>movie1678</th>\n",
       "      <th>movie1679</th>\n",
       "      <th>movie1680</th>\n",
       "      <th>movie1681</th>\n",
       "      <th>movie1682</th>\n",
       "    </tr>\n",
       "  </thead>\n",
       "  <tbody>\n",
       "    <tr>\n",
       "      <th>user1</th>\n",
       "      <td>5.0</td>\n",
       "      <td>3.0</td>\n",
       "      <td>4.0</td>\n",
       "      <td>3.0</td>\n",
       "      <td>3.0</td>\n",
       "      <td>5.0</td>\n",
       "      <td>4.0</td>\n",
       "      <td>1.0</td>\n",
       "      <td>5.0</td>\n",
       "      <td>3.0</td>\n",
       "      <td>...</td>\n",
       "      <td>NaN</td>\n",
       "      <td>NaN</td>\n",
       "      <td>NaN</td>\n",
       "      <td>NaN</td>\n",
       "      <td>NaN</td>\n",
       "      <td>NaN</td>\n",
       "      <td>NaN</td>\n",
       "      <td>NaN</td>\n",
       "      <td>NaN</td>\n",
       "      <td>NaN</td>\n",
       "    </tr>\n",
       "    <tr>\n",
       "      <th>user2</th>\n",
       "      <td>4.0</td>\n",
       "      <td>NaN</td>\n",
       "      <td>NaN</td>\n",
       "      <td>NaN</td>\n",
       "      <td>NaN</td>\n",
       "      <td>NaN</td>\n",
       "      <td>NaN</td>\n",
       "      <td>NaN</td>\n",
       "      <td>NaN</td>\n",
       "      <td>2.0</td>\n",
       "      <td>...</td>\n",
       "      <td>NaN</td>\n",
       "      <td>NaN</td>\n",
       "      <td>NaN</td>\n",
       "      <td>NaN</td>\n",
       "      <td>NaN</td>\n",
       "      <td>NaN</td>\n",
       "      <td>NaN</td>\n",
       "      <td>NaN</td>\n",
       "      <td>NaN</td>\n",
       "      <td>NaN</td>\n",
       "    </tr>\n",
       "    <tr>\n",
       "      <th>user3</th>\n",
       "      <td>NaN</td>\n",
       "      <td>NaN</td>\n",
       "      <td>NaN</td>\n",
       "      <td>NaN</td>\n",
       "      <td>NaN</td>\n",
       "      <td>NaN</td>\n",
       "      <td>NaN</td>\n",
       "      <td>NaN</td>\n",
       "      <td>NaN</td>\n",
       "      <td>NaN</td>\n",
       "      <td>...</td>\n",
       "      <td>NaN</td>\n",
       "      <td>NaN</td>\n",
       "      <td>NaN</td>\n",
       "      <td>NaN</td>\n",
       "      <td>NaN</td>\n",
       "      <td>NaN</td>\n",
       "      <td>NaN</td>\n",
       "      <td>NaN</td>\n",
       "      <td>NaN</td>\n",
       "      <td>NaN</td>\n",
       "    </tr>\n",
       "    <tr>\n",
       "      <th>user4</th>\n",
       "      <td>NaN</td>\n",
       "      <td>NaN</td>\n",
       "      <td>NaN</td>\n",
       "      <td>NaN</td>\n",
       "      <td>NaN</td>\n",
       "      <td>NaN</td>\n",
       "      <td>NaN</td>\n",
       "      <td>NaN</td>\n",
       "      <td>NaN</td>\n",
       "      <td>NaN</td>\n",
       "      <td>...</td>\n",
       "      <td>NaN</td>\n",
       "      <td>NaN</td>\n",
       "      <td>NaN</td>\n",
       "      <td>NaN</td>\n",
       "      <td>NaN</td>\n",
       "      <td>NaN</td>\n",
       "      <td>NaN</td>\n",
       "      <td>NaN</td>\n",
       "      <td>NaN</td>\n",
       "      <td>NaN</td>\n",
       "    </tr>\n",
       "    <tr>\n",
       "      <th>user5</th>\n",
       "      <td>4.0</td>\n",
       "      <td>3.0</td>\n",
       "      <td>NaN</td>\n",
       "      <td>NaN</td>\n",
       "      <td>NaN</td>\n",
       "      <td>NaN</td>\n",
       "      <td>NaN</td>\n",
       "      <td>NaN</td>\n",
       "      <td>NaN</td>\n",
       "      <td>NaN</td>\n",
       "      <td>...</td>\n",
       "      <td>NaN</td>\n",
       "      <td>NaN</td>\n",
       "      <td>NaN</td>\n",
       "      <td>NaN</td>\n",
       "      <td>NaN</td>\n",
       "      <td>NaN</td>\n",
       "      <td>NaN</td>\n",
       "      <td>NaN</td>\n",
       "      <td>NaN</td>\n",
       "      <td>NaN</td>\n",
       "    </tr>\n",
       "  </tbody>\n",
       "</table>\n",
       "<p>5 rows × 1682 columns</p>\n",
       "</div>"
      ],
      "text/plain": [
       "       movie1  movie2  movie3  movie4  movie5  movie6  movie7  movie8  movie9  \\\n",
       "user1     5.0     3.0     4.0     3.0     3.0     5.0     4.0     1.0     5.0   \n",
       "user2     4.0     NaN     NaN     NaN     NaN     NaN     NaN     NaN     NaN   \n",
       "user3     NaN     NaN     NaN     NaN     NaN     NaN     NaN     NaN     NaN   \n",
       "user4     NaN     NaN     NaN     NaN     NaN     NaN     NaN     NaN     NaN   \n",
       "user5     4.0     3.0     NaN     NaN     NaN     NaN     NaN     NaN     NaN   \n",
       "\n",
       "       movie10    ...      movie1673  movie1674  movie1675  movie1676  \\\n",
       "user1      3.0    ...            NaN        NaN        NaN        NaN   \n",
       "user2      2.0    ...            NaN        NaN        NaN        NaN   \n",
       "user3      NaN    ...            NaN        NaN        NaN        NaN   \n",
       "user4      NaN    ...            NaN        NaN        NaN        NaN   \n",
       "user5      NaN    ...            NaN        NaN        NaN        NaN   \n",
       "\n",
       "       movie1677  movie1678  movie1679  movie1680  movie1681  movie1682  \n",
       "user1        NaN        NaN        NaN        NaN        NaN        NaN  \n",
       "user2        NaN        NaN        NaN        NaN        NaN        NaN  \n",
       "user3        NaN        NaN        NaN        NaN        NaN        NaN  \n",
       "user4        NaN        NaN        NaN        NaN        NaN        NaN  \n",
       "user5        NaN        NaN        NaN        NaN        NaN        NaN  \n",
       "\n",
       "[5 rows x 1682 columns]"
      ]
     },
     "execution_count": 20,
     "metadata": {},
     "output_type": "execute_result"
    }
   ],
   "source": [
    "movie_table_file = \"movie_table.csv\"\n",
    "movie_data = pd.read_csv(movie_table_file, index_col=0)\n",
    "movie_data.head()"
   ]
  },
  {
   "cell_type": "markdown",
   "metadata": {
    "collapsed": false
   },
   "source": [
    "## ピアソン相関係数を計算する"
   ]
  },
  {
   "cell_type": "markdown",
   "metadata": {},
   "source": [
    "ピアソン相関係数を計算して、相関が高いものをレコメンドするようにする。ピアソン相関係数$\\rho_P$は\n",
    "\n",
    "$$\n",
    "    \\rho_P = \\frac{E_{X,Y}[(X-\\mu_X)(Y - \\mu_Y)]}{\\sqrt{E_X[(X - \\mu_X)^2]}\\sqrt{E_Y[(Y - \\mu_Y)^2]}}\n",
    "$$\n",
    "\n",
    "ただし、\n",
    "\n",
    "$$\n",
    "    \\mu_X = E_X[X], \\mu_Y = E_Y[Y]\n",
    "$$\n",
    "\n",
    "である。"
   ]
  },
  {
   "cell_type": "markdown",
   "metadata": {},
   "source": [
    "以下のような式を実装する。\n",
    "\n",
    "* ユーザ $s$ による映画 $i$ の評価を $p_{s,i}$、ユーザ $t$ による映画 $i$ の評価を $p_{t, i}$\n",
    "* ユーザ $s$ の映画の評価の平均を $E[P_s]$、ユーザ $t$ の映画の評価の平均を $E[P_t]$\n",
    "* ユーザ$s$, $t$間のピアソン相関係数 $Sim_{s,t}$\n",
    "\n",
    "$$\n",
    "    Sim_{s,t} = \\frac{\\sum_{i=1}^{n}(p_{s,i} - E[P_s])(p_{t,i} - E[P_t])}{\\sqrt{\\sum_{i=1}^{n}(p_{s,i} - E[P_s])^2} \\sqrt{{\\sum_{i=1}^{n}(p_{t,i} - E[P_t])^2}}}\n",
    "$$"
   ]
  },
  {
   "cell_type": "markdown",
   "metadata": {},
   "source": [
    "ユーザの映画評価の平均を計算する"
   ]
  },
  {
   "cell_type": "code",
   "execution_count": 21,
   "metadata": {
    "collapsed": false
   },
   "outputs": [
    {
     "name": "stdout",
     "output_type": "stream",
     "text": [
      "user1 average rating = 3.6\n",
      "user2 average rating = 3.7\n",
      "<class 'pandas.core.series.Series'>\n"
     ]
    }
   ],
   "source": [
    "user1 = movie_data.ix['user1']\n",
    "user1_mean = user1.mean()\n",
    "print(\"user1 average rating = %.1f\" % user1_mean)\n",
    "\n",
    "user2 = movie_data.ix['user2']\n",
    "user2_mean = user2.mean()\n",
    "print(\"user2 average rating = %.1f\" % user2_mean)\n",
    "\n",
    "print(type(user1))"
   ]
  },
  {
   "cell_type": "code",
   "execution_count": 22,
   "metadata": {
    "collapsed": false
   },
   "outputs": [
    {
     "name": "stdout",
     "output_type": "stream",
     "text": [
      "5.0\n",
      "<class 'numpy.float64'>\n"
     ]
    }
   ],
   "source": [
    "# 取り出したデータって型は何？\n",
    "print(user1[\"movie1\"])\n",
    "print(type(user1[\"movie1\"])) # numpy.float64みたい"
   ]
  },
  {
   "cell_type": "code",
   "execution_count": 23,
   "metadata": {
    "collapsed": false
   },
   "outputs": [
    {
     "name": "stdout",
     "output_type": "stream",
     "text": [
      "user1[movie1] = 5.000000, user2[movie1] = 4.000000\n",
      "now movie_num = movie1, calc = 0.403463\n",
      "user1[movie10] = 3.000000, user2[movie10] = 2.000000\n",
      "now movie_num = movie10, calc = 1.043406\n",
      "user1[movie13] = 5.000000, user2[movie13] = 4.000000\n",
      "now movie_num = movie13, calc = 0.403463\n",
      "user1[movie14] = 5.000000, user2[movie14] = 4.000000\n",
      "now movie_num = movie14, calc = 0.403463\n",
      "user1[movie19] = 5.000000, user2[movie19] = 3.000000\n",
      "now movie_num = movie19, calc = -0.986243\n",
      "user1[movie25] = 4.000000, user2[movie25] = 4.000000\n",
      "now movie_num = movie25, calc = 0.113140\n",
      "user1[movie50] = 5.000000, user2[movie50] = 5.000000\n",
      "now movie_num = movie50, calc = 1.793169\n",
      "user1[movie100] = 5.000000, user2[movie100] = 5.000000\n",
      "now movie_num = movie100, calc = 1.793169\n",
      "user1[movie111] = 5.000000, user2[movie111] = 4.000000\n",
      "now movie_num = movie111, calc = 0.403463\n",
      "user1[movie127] = 5.000000, user2[movie127] = 5.000000\n",
      "now movie_num = movie127, calc = 1.793169\n",
      "user1[movie237] = 2.000000, user2[movie237] = 4.000000\n",
      "now movie_num = movie237, calc = -0.467505\n",
      "user1[movie242] = 5.000000, user2[movie242] = 5.000000\n",
      "now movie_num = movie242, calc = 1.793169\n",
      "user1[movie251] = 4.000000, user2[movie251] = 5.000000\n",
      "now movie_num = movie251, calc = 0.502846\n",
      "user1[movie255] = 2.000000, user2[movie255] = 4.000000\n",
      "now movie_num = movie255, calc = -0.467505\n",
      "user1[movie257] = 4.000000, user2[movie257] = 4.000000\n",
      "now movie_num = movie257, calc = 0.113140\n",
      "user1[movie258] = 5.000000, user2[movie258] = 3.000000\n",
      "now movie_num = movie258, calc = -0.986243\n",
      "user1[movie269] = 5.000000, user2[movie269] = 4.000000\n",
      "now movie_num = movie269, calc = 0.403463\n",
      "user1[movie272] = 3.000000, user2[movie272] = 5.000000\n",
      "now movie_num = movie272, calc = -0.787476\n",
      "sum = 7.267552\n"
     ]
    }
   ],
   "source": [
    "sum = 0\n",
    "for i in range(1, ALL_ITEMS+1):\n",
    "    movie_name = \"movie%d\"% i\n",
    "    \n",
    "    if not(math.isnan(user1[movie_name]) or math.isnan(user2[movie_name])):\n",
    "        \n",
    "        print(\"user1[%s] = %f, user2[%s] = %f\" %(movie_name, user1[movie_name], movie_name, user2[movie_name]))\n",
    "        \n",
    "        # 計算を行う\n",
    "        calc = (user1[movie_name] - user1_mean)*(user2[movie_name] - user2_mean)\n",
    "        \n",
    "        print(\"now movie_num = %s, calc = %f\" % (movie_name, calc))\n",
    "        \n",
    "        # 計算結果を足しこむ\n",
    "        sum += calc\n",
    "\n",
    "print(\"sum = %f\" % sum)"
   ]
  },
  {
   "cell_type": "code",
   "execution_count": 24,
   "metadata": {
    "collapsed": false
   },
   "outputs": [
    {
     "name": "stdout",
     "output_type": "stream",
     "text": [
      "movie1: v1 = 1.931282, v2 = 0.084287\n",
      "movie10: v1 = 0.372459, v2 = 2.922997\n",
      "movie13: v1 = 1.931282, v2 = 0.084287\n",
      "movie14: v1 = 1.931282, v2 = 0.084287\n",
      "movie19: v1 = 1.931282, v2 = 0.503642\n",
      "movie25: v1 = 0.151871, v2 = 0.084287\n",
      "movie50: v1 = 1.931282, v2 = 1.664932\n",
      "movie100: v1 = 1.931282, v2 = 1.664932\n",
      "movie111: v1 = 1.931282, v2 = 0.084287\n",
      "movie127: v1 = 1.931282, v2 = 1.664932\n",
      "movie237: v1 = 2.593047, v2 = 0.084287\n",
      "movie242: v1 = 1.931282, v2 = 1.664932\n",
      "movie251: v1 = 0.151871, v2 = 1.664932\n",
      "movie255: v1 = 2.593047, v2 = 0.084287\n",
      "movie257: v1 = 0.151871, v2 = 0.084287\n",
      "movie258: v1 = 1.931282, v2 = 0.503642\n",
      "movie269: v1 = 1.931282, v2 = 0.084287\n",
      "movie272: v1 = 0.372459, v2 = 1.664932\n",
      "sos1 = 27.6, sos2 = 14.7\n",
      "sqrt1 = 5.3, sqrt2 = 3.8\n"
     ]
    }
   ],
   "source": [
    "sos1 = 0; sos2 = 0\n",
    "for i in range(1, ALL_ITEMS+1):\n",
    "    movie_name = \"movie%d\" % i\n",
    "    \n",
    "    if not(math.isnan(user1[movie_name]) or math.isnan(user2[movie_name])):\n",
    "        v1 = (user1[movie_name] - user1_mean)**2\n",
    "        v2 = (user2[movie_name] - user2_mean)**2\n",
    "        print(\"%s: v1 = %f, v2 = %f\" % (movie_name, v1, v2))\n",
    "        \n",
    "        # sum of square(二乗和)を計算\n",
    "        sos1 = sos1 + v1\n",
    "        sos2 = sos2 + v2\n",
    "\n",
    "sqrt1 = math.sqrt(sos1)\n",
    "sqrt2 = math.sqrt(sos2)\n",
    "print(\"sos1 = %.1f, sos2 = %.1f\" % (sos1, sos2))\n",
    "print(\"sqrt1 = %.1f, sqrt2 = %.1f\" % (sqrt1, sqrt2))"
   ]
  },
  {
   "cell_type": "code",
   "execution_count": 25,
   "metadata": {
    "collapsed": false
   },
   "outputs": [
    {
     "name": "stdout",
     "output_type": "stream",
     "text": [
      "pearson correlation = 0.360871\n"
     ]
    }
   ],
   "source": [
    "pearson_correlation = sum / (sqrt1 * sqrt2)\n",
    "print(\"pearson correlation = %f\" % (pearson_correlation))"
   ]
  },
  {
   "cell_type": "code",
   "execution_count": 26,
   "metadata": {
    "collapsed": true
   },
   "outputs": [],
   "source": [
    "def sim_pearson(user1, user2):\n",
    "\n",
    "    # 同じもの同士は0を返すようにする\n",
    "    if user1.equals(user2):\n",
    "        return 0.0\n",
    "    \n",
    "    user1_mean = user1.mean()\n",
    "    user2_mean = user2.mean()\n",
    "\n",
    "    sum = 0\n",
    "    for i in range(1, ALL_ITEMS+1):\n",
    "        movie_name = \"movie%d\" % i\n",
    "        \n",
    "        if not(math.isnan(user1[movie_name]) or math.isnan(user2[movie_name])):\n",
    "            calc_ = (user1[movie_name] - user1_mean)*(user2[movie_name] - user2_mean)\n",
    "            sum += calc_\n",
    "    \n",
    "    sos1 = 0; sos2 = 0\n",
    "    for i in range(1, ALL_ITEMS+1):\n",
    "        movie_name = \"movie%d\" % i\n",
    "        \n",
    "        if not(math.isnan(user1[movie_name]) or math.isnan(user2[movie_name])):\n",
    "            v1 = (user1[movie_name] - user1_mean)**2\n",
    "            v2 = (user2[movie_name] - user2_mean)**2\n",
    "\n",
    "            sos1 = sos1 + v1; sos2 = sos2 + v2\n",
    "            \n",
    "    sqrt1 = math.sqrt(sos1)\n",
    "    sqrt2 = math.sqrt(sos2)\n",
    "    \n",
    "    try:\n",
    "        pearson_corr = sum / (sqrt1 * sqrt2)\n",
    "    except ZeroDivisionError as e:\n",
    "        pearson_corr = 0\n",
    "    \n",
    "    return pearson_corr            "
   ]
  },
  {
   "cell_type": "code",
   "execution_count": 27,
   "metadata": {
    "collapsed": false
   },
   "outputs": [
    {
     "name": "stdout",
     "output_type": "stream",
     "text": [
      "pearson corr = 0.000000\n"
     ]
    }
   ],
   "source": [
    "pc = sim_pearson(user1, user1)\n",
    "print(\"pearson corr = %f\" % pc)"
   ]
  },
  {
   "cell_type": "markdown",
   "metadata": {},
   "source": [
    "*target_user*に似ているユーザを探し出す。"
   ]
  },
  {
   "cell_type": "code",
   "execution_count": 28,
   "metadata": {
    "collapsed": false
   },
   "outputs": [
    {
     "name": "stdout",
     "output_type": "stream",
     "text": [
      "user522: 1.000000\n",
      "user289: 1.000000\n",
      "user366: 1.000000\n",
      "user98: 1.000000\n",
      "user778: 1.000000\n",
      "user51: 1.000000\n",
      "user700: 1.000000\n",
      "user912: 1.000000\n",
      "user369: 1.000000\n",
      "user114: 0.998487\n"
     ]
    }
   ],
   "source": [
    "target_user = movie_data.ix['user2']\n",
    "score_dict = {}\n",
    "best_score = {}\n",
    "\n",
    "for i in range(1, ALL_USERS+1):\n",
    "    user_name = \"user%d\" % i\n",
    "    # print(\"Now compare %s\" % user_name)\n",
    "    \n",
    "    user = movie_data.ix[user_name]\n",
    "    pc = sim_pearson(target_user, user)\n",
    "    \n",
    "    score_dict[user_name] = pc\n",
    "\n",
    "# 似ているユーザ上位10人を表示してみる\n",
    "count = 0\n",
    "for user, score in sorted(score_dict.items(), key=lambda x:x[1], reverse=True):\n",
    "    if count == 10:\n",
    "        break\n",
    "    print(\"%s: %f\" % (user, score))\n",
    "    best_score[user] = score\n",
    "    count += 1"
   ]
  },
  {
   "cell_type": "code",
   "execution_count": 29,
   "metadata": {
    "collapsed": false
   },
   "outputs": [
    {
     "data": {
      "text/html": [
       "<div>\n",
       "<table border=\"1\" class=\"dataframe\">\n",
       "  <thead>\n",
       "    <tr style=\"text-align: right;\">\n",
       "      <th></th>\n",
       "      <th>movie1</th>\n",
       "      <th>movie2</th>\n",
       "      <th>movie3</th>\n",
       "      <th>movie4</th>\n",
       "      <th>movie5</th>\n",
       "      <th>movie6</th>\n",
       "      <th>movie7</th>\n",
       "      <th>movie8</th>\n",
       "      <th>movie9</th>\n",
       "      <th>movie10</th>\n",
       "      <th>...</th>\n",
       "      <th>movie1673</th>\n",
       "      <th>movie1674</th>\n",
       "      <th>movie1675</th>\n",
       "      <th>movie1676</th>\n",
       "      <th>movie1677</th>\n",
       "      <th>movie1678</th>\n",
       "      <th>movie1679</th>\n",
       "      <th>movie1680</th>\n",
       "      <th>movie1681</th>\n",
       "      <th>movie1682</th>\n",
       "    </tr>\n",
       "  </thead>\n",
       "  <tbody>\n",
       "    <tr>\n",
       "      <th>user2</th>\n",
       "      <td>4.0</td>\n",
       "      <td>NaN</td>\n",
       "      <td>NaN</td>\n",
       "      <td>NaN</td>\n",
       "      <td>NaN</td>\n",
       "      <td>NaN</td>\n",
       "      <td>NaN</td>\n",
       "      <td>NaN</td>\n",
       "      <td>NaN</td>\n",
       "      <td>2.0</td>\n",
       "      <td>...</td>\n",
       "      <td>NaN</td>\n",
       "      <td>NaN</td>\n",
       "      <td>NaN</td>\n",
       "      <td>NaN</td>\n",
       "      <td>NaN</td>\n",
       "      <td>NaN</td>\n",
       "      <td>NaN</td>\n",
       "      <td>NaN</td>\n",
       "      <td>NaN</td>\n",
       "      <td>NaN</td>\n",
       "    </tr>\n",
       "    <tr>\n",
       "      <th>user525</th>\n",
       "      <td>4.0</td>\n",
       "      <td>NaN</td>\n",
       "      <td>NaN</td>\n",
       "      <td>NaN</td>\n",
       "      <td>NaN</td>\n",
       "      <td>NaN</td>\n",
       "      <td>3.0</td>\n",
       "      <td>NaN</td>\n",
       "      <td>NaN</td>\n",
       "      <td>NaN</td>\n",
       "      <td>...</td>\n",
       "      <td>NaN</td>\n",
       "      <td>NaN</td>\n",
       "      <td>NaN</td>\n",
       "      <td>NaN</td>\n",
       "      <td>NaN</td>\n",
       "      <td>NaN</td>\n",
       "      <td>NaN</td>\n",
       "      <td>NaN</td>\n",
       "      <td>NaN</td>\n",
       "      <td>NaN</td>\n",
       "    </tr>\n",
       "  </tbody>\n",
       "</table>\n",
       "<p>2 rows × 1682 columns</p>\n",
       "</div>"
      ],
      "text/plain": [
       "         movie1  movie2  movie3  movie4  movie5  movie6  movie7  movie8  \\\n",
       "user2       4.0     NaN     NaN     NaN     NaN     NaN     NaN     NaN   \n",
       "user525     4.0     NaN     NaN     NaN     NaN     NaN     3.0     NaN   \n",
       "\n",
       "         movie9  movie10    ...      movie1673  movie1674  movie1675  \\\n",
       "user2       NaN      2.0    ...            NaN        NaN        NaN   \n",
       "user525     NaN      NaN    ...            NaN        NaN        NaN   \n",
       "\n",
       "         movie1676  movie1677  movie1678  movie1679  movie1680  movie1681  \\\n",
       "user2          NaN        NaN        NaN        NaN        NaN        NaN   \n",
       "user525        NaN        NaN        NaN        NaN        NaN        NaN   \n",
       "\n",
       "         movie1682  \n",
       "user2          NaN  \n",
       "user525        NaN  \n",
       "\n",
       "[2 rows x 1682 columns]"
      ]
     },
     "execution_count": 29,
     "metadata": {},
     "output_type": "execute_result"
    }
   ],
   "source": [
    "compare_user = movie_data.ix[['user2','user525']]\n",
    "compare_user.head()"
   ]
  },
  {
   "cell_type": "code",
   "execution_count": 30,
   "metadata": {
    "collapsed": false
   },
   "outputs": [
    {
     "name": "stdout",
     "output_type": "stream",
     "text": [
      "{'user51': 1.0, 'user778': 1.0, 'user369': 0.99999999999999978, 'user700': 1.0, 'user114': 0.9984871757166689, 'user289': 1.0, 'user98': 1.0, 'user912': 1.0, 'user366': 1.0, 'user522': 1.0}\n"
     ]
    }
   ],
   "source": [
    "print(best_score)"
   ]
  },
  {
   "cell_type": "markdown",
   "metadata": {},
   "source": [
    "## レコメンドアルゴリズム\n",
    "\n",
    "評価済み映画の類似度による重み付け和を正規化したものをレコメンドスコアの指標とする。"
   ]
  },
  {
   "cell_type": "markdown",
   "metadata": {},
   "source": [
    "以下のような式を実装する。\n",
    "\n",
    "* ユーザ $s$ とユーザ $t$ とのピアソン相関係数 $Sim_{s, t}$\n",
    "* ユーザ $t$ が映画 $i$ を評価した時の評価値 $p_{t, i}$\n",
    "* ユーザ $s$ とユーザ $t$ が共通に評価した映画の集合 $i_{s,t}$\n",
    "* $i_{s,t}$ 上での $t$ の評価値の平均 $\\bar{r'_s}$\n",
    "* ユーザ $s$ の評価値の平均 $\\bar{r_s}$\n",
    "* ユーザ $s$ が 映画 $i$ を評価した時の評価値の推定値 $Recom_{s,i}$\n",
    "\n",
    "$$\n",
    "    Recom_{s,i} = \\frac{\\sum_{i=1}^{n} (p_{t,i} - \\bar{r'_t})Sim_{s,t}}{\\sum_{i=1}^{n} |Sim_{s,t}|}\n",
    "$$"
   ]
  },
  {
   "cell_type": "markdown",
   "metadata": {},
   "source": [
    "1. *target_user*と各々のユーザに対して類似度を求める（ピアソン相関係数を利用する）\n",
    "2. 映画1から映画$i$までの評価についてそれぞれ類似度を掛けて重み付けを行う。\n",
    "\n",
    "    $$\n",
    "        WS(Weighted Score) = \\sum_{i=1}^{n} \\sum_{j=1}^{m} Sim_{target\\_user, j} p_{j, i}\n",
    "    $$\n",
    "\n",
    "3. 類似性スコアの合計を出す。\n",
    "\n",
    "    $$\n",
    "        TS(Total Sim) = \\sum_{j=1}^{m} Sim_{target\\_user, j}\n",
    "    $$\n",
    "\n",
    "4. 正規化を行う。\n",
    "\n",
    "    $$\n",
    "        Norm(Normalize) = \\frac{WS}{TS}\n",
    "    $$\n",
    "\n",
    "5. $Norm$の値が一番大きい映画についてレコメンドを行う。"
   ]
  },
  {
   "cell_type": "code",
   "execution_count": 38,
   "metadata": {
    "collapsed": false
   },
   "outputs": [
    {
     "ename": "KeyboardInterrupt",
     "evalue": "",
     "output_type": "error",
     "traceback": [
      "\u001b[0;31m---------------------------------------------------------------------------\u001b[0m",
      "\u001b[0;31mKeyboardInterrupt\u001b[0m                         Traceback (most recent call last)",
      "\u001b[0;32m<ipython-input-38-9ba69d846811>\u001b[0m in \u001b[0;36m<module>\u001b[0;34m()\u001b[0m\n\u001b[1;32m     11\u001b[0m \u001b[0;34m\u001b[0m\u001b[0m\n\u001b[1;32m     12\u001b[0m         \u001b[0;32mif\u001b[0m \u001b[0;32mnot\u001b[0m\u001b[0;34m(\u001b[0m\u001b[0mmath\u001b[0m\u001b[0;34m.\u001b[0m\u001b[0misnan\u001b[0m\u001b[0;34m(\u001b[0m\u001b[0muser\u001b[0m\u001b[0;34m[\u001b[0m\u001b[0mmovie_name\u001b[0m\u001b[0;34m]\u001b[0m\u001b[0;34m)\u001b[0m\u001b[0;34m)\u001b[0m\u001b[0;34m:\u001b[0m\u001b[0;34m\u001b[0m\u001b[0m\n\u001b[0;32m---> 13\u001b[0;31m             \u001b[0mpc\u001b[0m \u001b[0;34m=\u001b[0m \u001b[0msim_pearson\u001b[0m\u001b[0;34m(\u001b[0m\u001b[0mtarget_user\u001b[0m\u001b[0;34m,\u001b[0m \u001b[0muser\u001b[0m\u001b[0;34m)\u001b[0m\u001b[0;34m\u001b[0m\u001b[0m\n\u001b[0m\u001b[1;32m     14\u001b[0m             \u001b[0msum1\u001b[0m \u001b[0;34m+=\u001b[0m \u001b[0muser\u001b[0m\u001b[0;34m[\u001b[0m\u001b[0mmovie_name\u001b[0m\u001b[0;34m]\u001b[0m \u001b[0;34m*\u001b[0m \u001b[0mpc\u001b[0m\u001b[0;34m\u001b[0m\u001b[0m\n\u001b[1;32m     15\u001b[0m \u001b[0;34m\u001b[0m\u001b[0m\n",
      "\u001b[0;32m<ipython-input-26-010862d8bf56>\u001b[0m in \u001b[0;36msim_pearson\u001b[0;34m(user1, user2)\u001b[0m\n\u001b[1;32m     20\u001b[0m         \u001b[0mmovie_name\u001b[0m \u001b[0;34m=\u001b[0m \u001b[0;34m\"movie%d\"\u001b[0m \u001b[0;34m%\u001b[0m \u001b[0mi\u001b[0m\u001b[0;34m\u001b[0m\u001b[0m\n\u001b[1;32m     21\u001b[0m \u001b[0;34m\u001b[0m\u001b[0m\n\u001b[0;32m---> 22\u001b[0;31m         \u001b[0;32mif\u001b[0m \u001b[0;32mnot\u001b[0m\u001b[0;34m(\u001b[0m\u001b[0mmath\u001b[0m\u001b[0;34m.\u001b[0m\u001b[0misnan\u001b[0m\u001b[0;34m(\u001b[0m\u001b[0muser1\u001b[0m\u001b[0;34m[\u001b[0m\u001b[0mmovie_name\u001b[0m\u001b[0;34m]\u001b[0m\u001b[0;34m)\u001b[0m \u001b[0;32mor\u001b[0m \u001b[0mmath\u001b[0m\u001b[0;34m.\u001b[0m\u001b[0misnan\u001b[0m\u001b[0;34m(\u001b[0m\u001b[0muser2\u001b[0m\u001b[0;34m[\u001b[0m\u001b[0mmovie_name\u001b[0m\u001b[0;34m]\u001b[0m\u001b[0;34m)\u001b[0m\u001b[0;34m)\u001b[0m\u001b[0;34m:\u001b[0m\u001b[0;34m\u001b[0m\u001b[0m\n\u001b[0m\u001b[1;32m     23\u001b[0m             \u001b[0mv1\u001b[0m \u001b[0;34m=\u001b[0m \u001b[0;34m(\u001b[0m\u001b[0muser1\u001b[0m\u001b[0;34m[\u001b[0m\u001b[0mmovie_name\u001b[0m\u001b[0;34m]\u001b[0m \u001b[0;34m-\u001b[0m \u001b[0muser1_mean\u001b[0m\u001b[0;34m)\u001b[0m\u001b[0;34m**\u001b[0m\u001b[0;36m2\u001b[0m\u001b[0;34m\u001b[0m\u001b[0m\n\u001b[1;32m     24\u001b[0m             \u001b[0mv2\u001b[0m \u001b[0;34m=\u001b[0m \u001b[0;34m(\u001b[0m\u001b[0muser2\u001b[0m\u001b[0;34m[\u001b[0m\u001b[0mmovie_name\u001b[0m\u001b[0;34m]\u001b[0m \u001b[0;34m-\u001b[0m \u001b[0muser2_mean\u001b[0m\u001b[0;34m)\u001b[0m\u001b[0;34m**\u001b[0m\u001b[0;36m2\u001b[0m\u001b[0;34m\u001b[0m\u001b[0m\n",
      "\u001b[0;32m/home/cyberangel/.pyenv/versions/miniconda3-latest/envs/vtask-env/lib/python3.5/site-packages/pandas/core/series.py\u001b[0m in \u001b[0;36m__getitem__\u001b[0;34m(self, key)\u001b[0m\n\u001b[1;32m    579\u001b[0m \u001b[0;34m\u001b[0m\u001b[0m\n\u001b[1;32m    580\u001b[0m     \u001b[0;32mdef\u001b[0m \u001b[0m__getitem__\u001b[0m\u001b[0;34m(\u001b[0m\u001b[0mself\u001b[0m\u001b[0;34m,\u001b[0m \u001b[0mkey\u001b[0m\u001b[0;34m)\u001b[0m\u001b[0;34m:\u001b[0m\u001b[0;34m\u001b[0m\u001b[0m\n\u001b[0;32m--> 581\u001b[0;31m         \u001b[0mkey\u001b[0m \u001b[0;34m=\u001b[0m \u001b[0mcom\u001b[0m\u001b[0;34m.\u001b[0m\u001b[0m_apply_if_callable\u001b[0m\u001b[0;34m(\u001b[0m\u001b[0mkey\u001b[0m\u001b[0;34m,\u001b[0m \u001b[0mself\u001b[0m\u001b[0;34m)\u001b[0m\u001b[0;34m\u001b[0m\u001b[0m\n\u001b[0m\u001b[1;32m    582\u001b[0m         \u001b[0;32mtry\u001b[0m\u001b[0;34m:\u001b[0m\u001b[0;34m\u001b[0m\u001b[0m\n\u001b[1;32m    583\u001b[0m             \u001b[0mresult\u001b[0m \u001b[0;34m=\u001b[0m \u001b[0mself\u001b[0m\u001b[0;34m.\u001b[0m\u001b[0mindex\u001b[0m\u001b[0;34m.\u001b[0m\u001b[0mget_value\u001b[0m\u001b[0;34m(\u001b[0m\u001b[0mself\u001b[0m\u001b[0;34m,\u001b[0m \u001b[0mkey\u001b[0m\u001b[0;34m)\u001b[0m\u001b[0;34m\u001b[0m\u001b[0m\n",
      "\u001b[0;31mKeyboardInterrupt\u001b[0m: "
     ]
    }
   ],
   "source": [
    "target_user = movie_data.ix['user2']\n",
    "\n",
    "start = time.time()\n",
    "\n",
    "sum1 = 0\n",
    "for i in range(1, ALL_USERS+1):\n",
    "    user_name = \"user%d\" % i\n",
    "    \n",
    "    user = movie_data.ix[user_name]\n",
    "    \n",
    "    for j in range(1, ALL_ITEMS+1):\n",
    "        movie_name = \"movie%d\" % j\n",
    "\n",
    "        if not(math.isnan(user[movie_name])):\n",
    "            pc = sim_pearson(target_user, user)\n",
    "            sum1 += user[movie_name] * pc\n",
    "\n",
    "sum2 = 0\n",
    "for i in range(1, ALL_USERS+1):\n",
    "    user_name = \"user%d\" % i\n",
    "    user = movie_data.ix[user_name]\n",
    "    \n",
    "    pc = sim_pearson(target_user, user)\n",
    "    sum2 += math.fabs(pc)\n",
    "\n",
    "recom = sum1 / sum2\n",
    "\n",
    "end = time.time() - start\n",
    "print(\"processing time: %f\" % end)"
   ]
  }
 ],
 "metadata": {
  "kernelspec": {
   "display_name": "Python 3",
   "language": "python",
   "name": "python3"
  },
  "language_info": {
   "codemirror_mode": {
    "name": "ipython",
    "version": 3
   },
   "file_extension": ".py",
   "mimetype": "text/x-python",
   "name": "python",
   "nbconvert_exporter": "python",
   "pygments_lexer": "ipython3",
   "version": "3.5.2"
  }
 },
 "nbformat": 4,
 "nbformat_minor": 0
}
